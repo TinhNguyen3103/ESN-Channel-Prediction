{
 "cells": [
  {
   "cell_type": "code",
   "execution_count": 45,
   "metadata": {},
   "outputs": [],
   "source": [
    "import matplotlib.pyplot as plt\n",
    "import numpy as np\n",
    "import pandas as pd\n",
    "import tensorflow as tf\n",
    "from tensorflow import keras\n",
    "from sklearn.metrics import mean_squared_error\n",
    "import math\n",
    "\n",
    "from tensorflow.keras.models import Sequential\n",
    "from tensorflow.keras.layers import Dense, Dropout, LSTM\n",
    "import time\n",
    "\n",
    "tf.random.set_seed(42)"
   ]
  },
  {
   "cell_type": "code",
   "execution_count": 46,
   "metadata": {},
   "outputs": [],
   "source": [
    "h_a = np.loadtxt('../../Data/data_39_highSI.txt', dtype=float)\n",
    "\n",
    "h_a = h_a[h_a>0]\n",
    "h_a = h_a[1::20]\n",
    "\n",
    "avr = np.average(h_a)\n",
    "h_a = h_a/avr\n",
    "h_a = h_a.reshape(-1,1)"
   ]
  },
  {
   "cell_type": "code",
   "execution_count": 47,
   "metadata": {},
   "outputs": [],
   "source": [
    "N_train = 7500       # train len for each iteration\n",
    "N_test = 2500      # test len\n",
    "k = (len(h_a) - N_train) // N_test\n",
    "N_total = N_train+k*N_test       # total sample len\n",
    "out_size = 1\n",
    "timesteps = 21\n",
    "\n",
    "Y_test = np.zeros((N_total-N_train - k*(timesteps-1), out_size), dtype=float)\n",
    "Y_pred = np.zeros((N_total-N_train - k*(timesteps-1), out_size), dtype=float)"
   ]
  },
  {
   "cell_type": "code",
   "execution_count": 48,
   "metadata": {},
   "outputs": [
    {
     "name": "stdout",
     "output_type": "stream",
     "text": [
      "Model: \"sequential_5\"\n",
      "_________________________________________________________________\n",
      " Layer (type)                Output Shape              Param #   \n",
      "=================================================================\n",
      " lstm_12 (LSTM)              (None, 20, 50)            10400     \n",
      "                                                                 \n",
      " dropout_4 (Dropout)         (None, 20, 50)            0         \n",
      "                                                                 \n",
      " lstm_13 (LSTM)              (None, 50)                20200     \n",
      "                                                                 \n",
      " dropout_5 (Dropout)         (None, 50)                0         \n",
      "                                                                 \n",
      " dense_5 (Dense)             (None, 1)                 51        \n",
      "                                                                 \n",
      "=================================================================\n",
      "Total params: 30,651\n",
      "Trainable params: 30,651\n",
      "Non-trainable params: 0\n",
      "_________________________________________________________________\n"
     ]
    }
   ],
   "source": [
    "model = Sequential([\n",
    "    LSTM(50, return_sequences=True, input_shape=(timesteps-out_size,1)),\n",
    "    Dropout(0.1),\n",
    "\n",
    "    # LSTM(25, return_sequences=True),\n",
    "\n",
    "    LSTM(50, return_sequences=False),\n",
    "    Dropout(0.1),\n",
    "\n",
    "    Dense(out_size),\n",
    "\n",
    "])\n",
    "model.compile(optimizer='adam', loss='mean_absolute_error')\n",
    "\n",
    "model.summary()"
   ]
  },
  {
   "cell_type": "code",
   "execution_count": 49,
   "metadata": {},
   "outputs": [
    {
     "name": "stdout",
     "output_type": "stream",
     "text": [
      "i = 0\n",
      "Start training ............\n",
      "Epoch 1/5\n",
      "30/30 [==============================] - 3s 30ms/step - loss: 0.2255\n",
      "Epoch 2/5\n",
      "30/30 [==============================] - 1s 30ms/step - loss: 0.0776\n",
      "Epoch 3/5\n",
      "30/30 [==============================] - 1s 30ms/step - loss: 0.0609\n",
      "Epoch 4/5\n",
      "30/30 [==============================] - 1s 30ms/step - loss: 0.0591\n",
      "Epoch 5/5\n",
      "30/30 [==============================] - 1s 30ms/step - loss: 0.0535\n",
      "Execution time = 7.142141103744507 sec\n",
      "Start predicting ............\n",
      "78/78 [==============================] - 1s 3ms/step\n",
      "Execution time = 0.758425235748291 sec\n",
      "Done! \n",
      "\n"
     ]
    }
   ],
   "source": [
    "for i in range(1):\n",
    "    print('i = ' + str(i))\n",
    "\n",
    "    train_data = h_a[i*N_test : N_train+i*N_test].reshape(-1,1)\n",
    "    test_data = h_a[N_train + i*N_test : (i+1)*N_test + N_train].reshape(-1,1)\n",
    "\n",
    "    train_data_timesteps=np.array([[j for j in train_data[i:i+timesteps]] for i in range(0,len(train_data)-timesteps+1)])[:,:,0]\n",
    "    test_data_timesteps=np.array([[j for j in test_data[i:i+timesteps]] for i in range(0,len(test_data)-timesteps+1)])[:,:,0]\n",
    "\n",
    "    x_train, y_train = train_data_timesteps[:,:timesteps-out_size],train_data_timesteps[:,timesteps-out_size:]\n",
    "    x_test, y_test = test_data_timesteps[:,:timesteps-out_size],test_data_timesteps[:,timesteps-out_size:]\n",
    "\n",
    "    print('Start training ............')\n",
    "    st = time.time()\n",
    "    early_stop = keras.callbacks.EarlyStopping(monitor = 'val_loss', patience = 10)\n",
    "    history = model.fit(\n",
    "        x_train,\n",
    "        y_train,\n",
    "        epochs = 5,\n",
    "        batch_size = 256,\n",
    "        verbose = 1,\n",
    "    )\n",
    "    et = time.time()\n",
    "    print('Execution time = ' + str(et - st) + ' sec')\n",
    "\n",
    "    # y_train_pred = model.predict(x_train).reshape(-1,1)\n",
    "    print('Start predicting ............')\n",
    "    st = time.time()\n",
    "    y_test_pred = model.predict(x_test)\n",
    "    et = time.time()\n",
    "    print('Execution time = ' + str(et - st) + ' sec')\n",
    "    \n",
    "    Y_test[i*(N_test-timesteps+1):(i+1)*(N_test-timesteps+1), :] = y_test\n",
    "    Y_pred[i*(N_test-timesteps+1):(i+1)*(N_test-timesteps+1), :] = y_test_pred\n",
    "    print('Done! \\n')"
   ]
  },
  {
   "cell_type": "code",
   "execution_count": 50,
   "metadata": {},
   "outputs": [
    {
     "name": "stdout",
     "output_type": "stream",
     "text": [
      "i = 1\n",
      "Start training ............\n",
      "59/59 [==============================] - 1s 22ms/step - loss: 0.0517\n",
      "Execution time = 1.3351647853851318 sec\n",
      "Start predicting ............\n",
      "78/78 [==============================] - 0s 3ms/step\n",
      "Execution time = 0.3289833068847656 sec\n",
      "Done! \n",
      "\n",
      "i = 2\n",
      "Start training ............\n",
      "59/59 [==============================] - 1s 22ms/step - loss: 0.0465\n",
      "Execution time = 1.3702101707458496 sec\n",
      "Start predicting ............\n",
      "78/78 [==============================] - 0s 3ms/step\n",
      "Execution time = 0.32628512382507324 sec\n",
      "Done! \n",
      "\n",
      "i = 3\n",
      "Start training ............\n",
      "59/59 [==============================] - 1s 22ms/step - loss: 0.0451\n",
      "Execution time = 1.3456058502197266 sec\n",
      "Start predicting ............\n",
      "78/78 [==============================] - 0s 4ms/step\n",
      "Execution time = 0.33693528175354004 sec\n",
      "Done! \n",
      "\n",
      "i = 4\n",
      "Start training ............\n",
      "59/59 [==============================] - 1s 22ms/step - loss: 0.0457\n",
      "Execution time = 1.3440673351287842 sec\n",
      "Start predicting ............\n",
      "78/78 [==============================] - 0s 3ms/step\n",
      "Execution time = 0.3185899257659912 sec\n",
      "Done! \n",
      "\n"
     ]
    }
   ],
   "source": [
    "for i in range(1,5):\n",
    "    print('i = ' + str(i))\n",
    "\n",
    "    train_data = h_a[i*N_test : N_train+i*N_test].reshape(-1,1)\n",
    "    test_data = h_a[N_train + i*N_test : (i+1)*N_test + N_train].reshape(-1,1)\n",
    "\n",
    "    train_data_timesteps=np.array([[j for j in train_data[i:i+timesteps]] for i in range(0,len(train_data)-timesteps+1)])[:,:,0]\n",
    "    test_data_timesteps=np.array([[j for j in test_data[i:i+timesteps]] for i in range(0,len(test_data)-timesteps+1)])[:,:,0]\n",
    "\n",
    "    x_train, y_train = train_data_timesteps[:,:timesteps-out_size],train_data_timesteps[:,timesteps-out_size:]\n",
    "    x_test, y_test = test_data_timesteps[:,:timesteps-out_size],test_data_timesteps[:,timesteps-out_size:]\n",
    "\n",
    "    print('Start training ............')\n",
    "    st = time.time()\n",
    "    early_stop = keras.callbacks.EarlyStopping(monitor = 'val_loss', patience = 10)\n",
    "    history = model.fit(\n",
    "        x_train,\n",
    "        y_train,\n",
    "        epochs = 1,\n",
    "        batch_size = 128,\n",
    "        verbose = 1,\n",
    "    )\n",
    "    et = time.time()\n",
    "    print('Execution time = ' + str(et - st) + ' sec')\n",
    "\n",
    "    # y_train_pred = model.predict(x_train).reshape(-1,1)\n",
    "    print('Start predicting ............')\n",
    "    st = time.time()\n",
    "    y_test_pred = model.predict(x_test)\n",
    "    et = time.time()\n",
    "    print('Execution time = ' + str(et - st) + ' sec')\n",
    "    \n",
    "    Y_test[i*(N_test-timesteps+1):(i+1)*(N_test-timesteps+1), :] = y_test\n",
    "    Y_pred[i*(N_test-timesteps+1):(i+1)*(N_test-timesteps+1), :] = y_test_pred\n",
    "    print('Done! \\n')"
   ]
  },
  {
   "cell_type": "code",
   "execution_count": 51,
   "metadata": {},
   "outputs": [
    {
     "name": "stdout",
     "output_type": "stream",
     "text": [
      "MSE =  1.2264818610228315e-05\n",
      "RMSE =  0.0035021163044976554\n",
      "MAE =  0.0003272212920138537\n",
      "MAPE =  0.00036578505497351547\n"
     ]
    }
   ],
   "source": [
    "from sklearn.metrics import mean_squared_error, mean_absolute_percentage_error, mean_absolute_error\n",
    "import math\n",
    "\n",
    "MSE = mean_squared_error(Y_test, Y_pred)\n",
    "RMSE = math.sqrt(MSE)\n",
    "MAE = mean_absolute_error(Y_test, Y_pred)\n",
    "MAPE = mean_absolute_percentage_error(Y_test, Y_pred)\n",
    "\n",
    "print('MSE = ', MSE)\n",
    "print('RMSE = ', RMSE)\n",
    "print('MAE = ', MAE)\n",
    "print('MAPE = ', MAPE)"
   ]
  },
  {
   "cell_type": "code",
   "execution_count": 52,
   "metadata": {},
   "outputs": [
    {
     "name": "stdout",
     "output_type": "stream",
     "text": [
      "MSE =  [1.2264818610228315e-05]\n",
      "RMSE =  [0.0035021163044976554]\n",
      "MAE =  [0.0003272212920138537]\n",
      "MAPE =  [0.00036578505497351547]\n"
     ]
    }
   ],
   "source": [
    "from sklearn.metrics import mean_squared_error, mean_absolute_percentage_error, mean_absolute_error\n",
    "import math\n",
    "\n",
    "MSE = [0 for j in range(out_size)]\n",
    "RMSE = [0 for j in range(out_size)]\n",
    "MAE = [0 for j in range(out_size)]\n",
    "MAPE = [0 for j in range(out_size)]\n",
    "\n",
    "for i in range(out_size):\n",
    "    MSE[i] = mean_squared_error(Y_test[:,i], Y_pred[:,i])\n",
    "    RMSE[i] = math.sqrt(MSE[i])\n",
    "    MAE[i] = mean_absolute_error(Y_test[:,i], Y_pred[:,i])\n",
    "    MAPE[i] = mean_absolute_percentage_error(Y_test[:,i], Y_pred[:,i])\n",
    "\n",
    "print('MSE = ', MSE)\n",
    "print('RMSE = ', RMSE)\n",
    "print('MAE = ', MAE)\n",
    "print('MAPE = ', MAPE)"
   ]
  },
  {
   "cell_type": "code",
   "execution_count": 53,
   "metadata": {},
   "outputs": [],
   "source": [
    "# np.save(\"../Results/Multi_step/highSI/LSTM_test\", Y_test)\n",
    "# np.save(\"../Results/Multi_step/highSI/LSTM_pred\", Y_pred)"
   ]
  },
  {
   "cell_type": "code",
   "execution_count": 54,
   "metadata": {},
   "outputs": [],
   "source": [
    "# MAE = np.zeros((out_size))\n",
    "\n",
    "# for j in range(out_size):\n",
    "#     Y_t = Y_test[:,j]\n",
    "#     Y_p = Y_pred[:,j]\n",
    "\n",
    "#     MAE[j] = mean_absolute_error(Y_t, Y_p)\n",
    "\n",
    "#     np.savetxt(\"../../Data/Multi-step-LSTM/highSI_39/real_\" + str(j)+ \".txt\", Y_t, delimiter = '\\n')\n",
    "#     np.savetxt(\"../../Data/Multi-step-LSTM/highSI_39/predicted_\" + str(j)+ \".txt\", Y_p, delimiter = '\\n')\n",
    "\n",
    "# print(MAE)\n",
    "# np.savetxt(\"../../Data/Multi-step-LSTM/highSI_39/MAE.txt\", MAE, delimiter='\\n')"
   ]
  }
 ],
 "metadata": {
  "kernelspec": {
   "display_name": "Python 3",
   "language": "python",
   "name": "python3"
  },
  "language_info": {
   "codemirror_mode": {
    "name": "ipython",
    "version": 3
   },
   "file_extension": ".py",
   "mimetype": "text/x-python",
   "name": "python",
   "nbconvert_exporter": "python",
   "pygments_lexer": "ipython3",
   "version": "3.10.5"
  },
  "orig_nbformat": 4
 },
 "nbformat": 4,
 "nbformat_minor": 2
}
