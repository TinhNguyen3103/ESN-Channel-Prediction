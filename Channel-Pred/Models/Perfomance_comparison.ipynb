{
 "cells": [
  {
   "cell_type": "code",
   "execution_count": 19,
   "metadata": {},
   "outputs": [],
   "source": [
    "import numpy as np\n",
    "from sklearn.metrics import mean_squared_error, mean_absolute_percentage_error, mean_absolute_error\n",
    "import math"
   ]
  },
  {
   "cell_type": "code",
   "execution_count": 20,
   "metadata": {},
   "outputs": [],
   "source": [
    "file_name = 'data_39_highSI.txt'"
   ]
  },
  {
   "attachments": {},
   "cell_type": "markdown",
   "metadata": {},
   "source": [
    "# ESN model"
   ]
  },
  {
   "cell_type": "code",
   "execution_count": 21,
   "metadata": {},
   "outputs": [
    {
     "data": {
      "text/plain": [
       "830000"
      ]
     },
     "execution_count": 21,
     "metadata": {},
     "output_type": "execute_result"
    }
   ],
   "source": [
    "Y_real_ESN = np.loadtxt('../../Data/ESN/real_' + file_name, dtype=float)\n",
    "Y_pred_ESN = np.loadtxt('../../Data/ESN/predicted_' + file_name, dtype=float)\n",
    "Y_real_ESN.size"
   ]
  },
  {
   "cell_type": "code",
   "execution_count": 22,
   "metadata": {},
   "outputs": [],
   "source": [
    "MSE = mean_squared_error(Y_real_ESN, Y_pred_ESN)\n",
    "RMSE = math.sqrt(MSE)\n",
    "MAE = mean_absolute_error(Y_real_ESN, Y_pred_ESN)\n",
    "MAPE = mean_absolute_percentage_error(Y_real_ESN, Y_pred_ESN)\n",
    "\n",
    "ESN = MAE"
   ]
  },
  {
   "cell_type": "code",
   "execution_count": 23,
   "metadata": {},
   "outputs": [
    {
     "name": "stdout",
     "output_type": "stream",
     "text": [
      "MSE =  0.0007761789460066361\n",
      "RMSE =  0.027859988262858907\n",
      "MAE =  0.005129034781655105\n",
      "MAPE =  0.014571088053807354\n"
     ]
    }
   ],
   "source": [
    "print('MSE = ', MSE)\n",
    "print('RMSE = ', RMSE)\n",
    "print('MAE = ', MAE)\n",
    "print('MAPE = ', MAPE)"
   ]
  },
  {
   "attachments": {},
   "cell_type": "markdown",
   "metadata": {},
   "source": [
    "# SVM model"
   ]
  },
  {
   "cell_type": "code",
   "execution_count": 24,
   "metadata": {},
   "outputs": [
    {
     "data": {
      "text/plain": [
       "825020"
      ]
     },
     "execution_count": 24,
     "metadata": {},
     "output_type": "execute_result"
    }
   ],
   "source": [
    "Y_real_SVM_ori = np.loadtxt('../../Data/SVM/real_' + file_name, dtype=float)\n",
    "Y_pred_SVM_ori = np.loadtxt('../../Data/SVM/predicted_' + file_name, dtype=float)\n",
    "Y_real_SVM_ori.size"
   ]
  },
  {
   "cell_type": "code",
   "execution_count": 25,
   "metadata": {},
   "outputs": [],
   "source": [
    "Y_real_SVM = Y_real_SVM_ori[:]\n",
    "Y_pred_SVM = Y_pred_SVM_ori[:]"
   ]
  },
  {
   "cell_type": "code",
   "execution_count": 26,
   "metadata": {},
   "outputs": [],
   "source": [
    "MSE = mean_squared_error(Y_real_SVM, Y_pred_SVM)\n",
    "RMSE = math.sqrt(MSE)\n",
    "MAE = mean_absolute_error(Y_real_SVM, Y_pred_SVM)\n",
    "MAPE = mean_absolute_percentage_error(Y_real_SVM, Y_pred_SVM)\n",
    "\n",
    "SVM = MAE"
   ]
  },
  {
   "cell_type": "code",
   "execution_count": 27,
   "metadata": {},
   "outputs": [
    {
     "name": "stdout",
     "output_type": "stream",
     "text": [
      "MSE =  0.002162420086929281\n",
      "RMSE =  0.04650182885574804\n",
      "MAE =  0.008008517173066778\n",
      "MAPE =  0.01809613260238753\n"
     ]
    }
   ],
   "source": [
    "print('MSE = ', MSE)\n",
    "print('RMSE = ', RMSE)\n",
    "print('MAE = ', MAE)\n",
    "print('MAPE = ', MAPE)"
   ]
  },
  {
   "attachments": {},
   "cell_type": "markdown",
   "metadata": {},
   "source": [
    "# LSTM model"
   ]
  },
  {
   "cell_type": "code",
   "execution_count": 28,
   "metadata": {},
   "outputs": [
    {
     "data": {
      "text/plain": [
       "828340"
      ]
     },
     "execution_count": 28,
     "metadata": {},
     "output_type": "execute_result"
    }
   ],
   "source": [
    "Y_real_LSTM_ori = np.loadtxt('../../Data/LSTM/real_' + file_name, dtype=float)\n",
    "Y_pred_LSTM_ori = np.loadtxt('../../Data/LSTM/predicted_' + file_name, dtype=float)\n",
    "Y_real_LSTM_ori.size"
   ]
  },
  {
   "cell_type": "code",
   "execution_count": 29,
   "metadata": {},
   "outputs": [],
   "source": [
    "Y_real_LSTM = Y_real_LSTM_ori[:]\n",
    "Y_pred_LSTM = Y_pred_LSTM_ori[:]"
   ]
  },
  {
   "cell_type": "code",
   "execution_count": 30,
   "metadata": {},
   "outputs": [],
   "source": [
    "MSE = mean_squared_error(Y_real_LSTM, Y_pred_LSTM)\n",
    "RMSE = math.sqrt(MSE)\n",
    "MAE = mean_absolute_error(Y_real_LSTM, Y_pred_LSTM)\n",
    "MAPE = mean_absolute_percentage_error(Y_real_LSTM, Y_pred_LSTM)\n",
    "\n",
    "LSTM = MAE"
   ]
  },
  {
   "cell_type": "code",
   "execution_count": 31,
   "metadata": {},
   "outputs": [
    {
     "name": "stdout",
     "output_type": "stream",
     "text": [
      "MSE =  0.00015002153348421822\n",
      "RMSE =  0.012248327783179965\n",
      "MAE =  0.004668799629804553\n",
      "MAPE =  0.008681656428037903\n"
     ]
    }
   ],
   "source": [
    "print('MSE = ', MSE)\n",
    "print('RMSE = ', RMSE)\n",
    "print('MAE = ', MAE)\n",
    "print('MAPE = ', MAPE)"
   ]
  },
  {
   "attachments": {},
   "cell_type": "markdown",
   "metadata": {},
   "source": [
    "# GRU model"
   ]
  },
  {
   "cell_type": "code",
   "execution_count": 32,
   "metadata": {},
   "outputs": [
    {
     "data": {
      "text/plain": [
       "828340"
      ]
     },
     "execution_count": 32,
     "metadata": {},
     "output_type": "execute_result"
    }
   ],
   "source": [
    "Y_real_GRU = np.loadtxt('../../Data/GRU/real_' + file_name, dtype=float)\n",
    "Y_pred_GRU = np.loadtxt('../../Data/GRU/predicted_' + file_name, dtype=float)\n",
    "Y_real_GRU.size"
   ]
  },
  {
   "cell_type": "code",
   "execution_count": 33,
   "metadata": {},
   "outputs": [],
   "source": [
    "MSE = mean_squared_error(Y_real_GRU, Y_pred_GRU)\n",
    "RMSE = math.sqrt(MSE)\n",
    "MAE = mean_absolute_error(Y_real_GRU, Y_pred_GRU)\n",
    "MAPE = mean_absolute_percentage_error(Y_real_GRU, Y_pred_GRU)\n",
    "\n",
    "GRU = MAE"
   ]
  },
  {
   "cell_type": "code",
   "execution_count": 34,
   "metadata": {},
   "outputs": [
    {
     "name": "stdout",
     "output_type": "stream",
     "text": [
      "MSE =  0.00019390409276609426\n",
      "RMSE =  0.013924944982515883\n",
      "MAE =  0.004751162541458939\n",
      "MAPE =  0.009261622731095301\n"
     ]
    }
   ],
   "source": [
    "print('MSE = ', MSE)\n",
    "print('RMSE = ', RMSE)\n",
    "print('MAE = ', MAE)\n",
    "print('MAPE = ', MAPE)"
   ]
  },
  {
   "attachments": {},
   "cell_type": "markdown",
   "metadata": {},
   "source": [
    "# Check the performance"
   ]
  },
  {
   "cell_type": "code",
   "execution_count": 35,
   "metadata": {},
   "outputs": [
    {
     "name": "stdout",
     "output_type": "stream",
     "text": [
      "ESN: 0.49956385542168674\n",
      "SVM: 0.5021332816174153\n",
      "LSTM: 0.5018193012531086\n",
      "GRU: 0.49554892918366855\n"
     ]
    }
   ],
   "source": [
    "print('ESN:', sum(Y_pred_ESN > Y_real_ESN)/len(Y_pred_ESN))\n",
    "print('SVM:', sum(Y_pred_SVM > Y_real_SVM)/len(Y_pred_SVM))\n",
    "print('LSTM:', sum(Y_pred_LSTM > Y_real_LSTM)/len(Y_pred_LSTM))\n",
    "print('GRU:', sum(Y_pred_GRU > Y_real_GRU)/len(Y_pred_GRU))"
   ]
  },
  {
   "cell_type": "code",
   "execution_count": 36,
   "metadata": {},
   "outputs": [],
   "source": [
    "res = [ESN, SVM, LSTM, GRU]\n",
    "np.save('../Results/highSI', res)"
   ]
  }
 ],
 "metadata": {
  "kernelspec": {
   "display_name": "Python 3",
   "language": "python",
   "name": "python3"
  },
  "language_info": {
   "codemirror_mode": {
    "name": "ipython",
    "version": 3
   },
   "file_extension": ".py",
   "mimetype": "text/x-python",
   "name": "python",
   "nbconvert_exporter": "python",
   "pygments_lexer": "ipython3",
   "version": "3.10.5"
  },
  "orig_nbformat": 4
 },
 "nbformat": 4,
 "nbformat_minor": 2
}
